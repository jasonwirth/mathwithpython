{
 "metadata": {
  "name": "toss_till_6"
 },
 "nbformat": 3,
 "nbformat_minor": 0,
 "worksheets": [
  {
   "cells": [
    {
     "cell_type": "markdown",
     "metadata": {},
     "source": [
      "Problem\n",
      "================\n",
      "\n",
      "On average how many throws does it take to get a 6?\n",
      "----------------------\n",
      "\n",
      "People are familiar with a dice that has 6 sides, with each face having 1-6 on each side.\n",
      "\n",
      "This problem begs for a simulation. Python has a cool random funciton that let's us simulate a dice throw. \n",
      "\n",
      "We begin by creating a function that toss 6-sided die until we get a 6.\n",
      "\n",
      "\n"
     ]
    },
    {
     "cell_type": "code",
     "collapsed": false,
     "input": [
      "import random"
     ],
     "language": "python",
     "metadata": {},
     "outputs": [],
     "prompt_number": 157
    },
    {
     "cell_type": "code",
     "collapsed": false,
     "input": [
      "def toss_till_6():\n",
      "    tosses = []\n",
      "    while True:\n",
      "        face = random.randint(1, 6)\n",
      "        tosses.append(face)\n",
      "        if face == 6:\n",
      "            break\n",
      "    return tosses"
     ],
     "language": "python",
     "metadata": {},
     "outputs": [],
     "prompt_number": 158
    },
    {
     "cell_type": "markdown",
     "metadata": {},
     "source": [
      "We can toss the die"
     ]
    },
    {
     "cell_type": "code",
     "collapsed": false,
     "input": [
      "toss_till_6()"
     ],
     "language": "python",
     "metadata": {},
     "outputs": [
      {
       "output_type": "pyout",
       "prompt_number": 164,
       "text": [
        "[4, 4, 1, 6]"
       ]
      }
     ],
     "prompt_number": 164
    },
    {
     "cell_type": "markdown",
     "metadata": {},
     "source": [
      "Let's toss it 10 times and see what happens"
     ]
    },
    {
     "cell_type": "code",
     "collapsed": false,
     "input": [
      "for i in range(10):\n",
      "    print toss_till_6()"
     ],
     "language": "python",
     "metadata": {},
     "outputs": [
      {
       "output_type": "stream",
       "stream": "stdout",
       "text": [
        "[5, 6]\n",
        "[3, 5, 3, 5, 5, 3, 4, 6]\n",
        "[3, 2, 5, 2, 2, 2, 2, 4, 5, 3, 6]\n",
        "[6]\n",
        "[3, 4, 1, 6]\n",
        "[2, 3, 2, 6]\n",
        "[6]\n",
        "[4, 3, 5, 6]\n",
        "[5, 3, 2, 1, 5, 6]\n",
        "[2, 2, 3, 3, 1, 1, 6]\n"
       ]
      }
     ],
     "prompt_number": 162
    },
    {
     "cell_type": "markdown",
     "metadata": {},
     "source": [
      "That's interesting, sometimes we get 6 on the first throw, sometimes it takes quite a while. Check out that big string of 2's in the third trial.\n",
      "\n",
      "--------\n",
      "So, on average, how many throws did it take to get a 6?\n",
      "\n",
      "Let's count them up.\n",
      "\n",
      "- The 1st trial took 2 throws.\n",
      "- The 2nd trial took 8 throws.\n",
      "- The 3rd trial took 11 throws.\n",
      "- The 4th trial took 1 throw.\n",
      "- The 5th trial took 4 throws.\n",
      "- The 6th trial took 4 throws.\n",
      "- The 7th trial took 1 throws.\n",
      "- The 8th trial took 4 throws.\n",
      "- The 9th trial took 6 throws.\n",
      "- The 10th trial took 7 throws.\n",
      "\n",
      "That's a lot of calculating. Python can handle the heavy lifting.\n"
     ]
    },
    {
     "cell_type": "code",
     "collapsed": false,
     "input": [
      "throw_counts = [2, 8, 11, 1, 4, 4, 1, 4, 6, 7]\n",
      "sum(throw_counts)"
     ],
     "language": "python",
     "metadata": {},
     "outputs": [
      {
       "output_type": "pyout",
       "prompt_number": 165,
       "text": [
        "48"
       ]
      }
     ],
     "prompt_number": 165
    },
    {
     "cell_type": "markdown",
     "metadata": {},
     "source": [
      "We threw the dice until we got a 6. And we did it 10 times. It too a total of 48 throws. How many is that on average?"
     ]
    },
    {
     "cell_type": "code",
     "collapsed": false,
     "input": [
      "sum(throw_counts) / 10. #Note, that period after the 10 is really important. If we don't use it we won't get a decimal."
     ],
     "language": "python",
     "metadata": {},
     "outputs": [
      {
       "output_type": "pyout",
       "prompt_number": 168,
       "text": [
        "4.8"
       ]
      }
     ],
     "prompt_number": 168
    },
    {
     "cell_type": "markdown",
     "metadata": {},
     "source": [
      "It took almost 5 throws before we got a 6. \n",
      "\n",
      "Ah, but sometimes we got a 6 on the first throw, sometimes it took as many as 11 throws.\n",
      "\n",
      "If we did our experiment one time and got 6 onthe first throw we'd be way off. We'd also be way off if we had the throw the dice 11 times beore getting a 6."
     ]
    },
    {
     "cell_type": "markdown",
     "metadata": {},
     "source": [
      "-----\n",
      "What would happen if we repeated this experiment more times?\n",
      "\n",
      "How many more... 100, 1000, 10000?\n",
      "\n",
      "Let's begin with 100. \n",
      "\n",
      "(Note: I'm only choosing 100 because it's more than 10. We could also choose some other number like 82 if we wanted.)"
     ]
    },
    {
     "cell_type": "code",
     "collapsed": false,
     "input": [
      "trials = 100\n",
      "results = []\n",
      "for i in range(trials):\n",
      "    trial = toss_till_6()\n",
      "    results.append(trial)\n",
      "    \n",
      "results"
     ],
     "language": "python",
     "metadata": {},
     "outputs": [
      {
       "output_type": "pyout",
       "prompt_number": 169,
       "text": [
        "[[2, 3, 3, 3, 3, 3, 2, 5, 5, 1, 2, 4, 6],\n",
        " [5, 4, 4, 4, 6],\n",
        " [2, 6],\n",
        " [6],\n",
        " [3, 4, 4, 3, 3, 4, 4, 6],\n",
        " [4, 5, 1, 4, 2, 5, 1, 1, 1, 4, 5, 4, 6],\n",
        " [1, 2, 5, 5, 5, 6],\n",
        " [6],\n",
        " [5, 3, 1, 3, 5, 4, 1, 3, 6],\n",
        " [5, 1, 3, 2, 3, 6],\n",
        " [4, 1, 3, 2, 5, 3, 2, 6],\n",
        " [1, 3, 3, 1, 6],\n",
        " [4, 3, 3, 4, 5, 3, 3, 2, 5, 2, 1, 1, 4, 4, 6],\n",
        " [1, 3, 1, 1, 6],\n",
        " [4, 1, 4, 3, 4, 2, 4, 2, 3, 2, 6],\n",
        " [5, 4, 4, 4, 3, 2, 5, 1, 6],\n",
        " [1, 5, 5, 4, 5, 1, 4, 6],\n",
        " [3, 6],\n",
        " [2, 2, 2, 5, 3, 2, 3, 1, 1, 3, 4, 2, 1, 6],\n",
        " [5, 2, 2, 1, 4, 3, 3, 3, 3, 1, 6],\n",
        " [4, 1, 6],\n",
        " [1, 4, 5, 5, 4, 2, 3, 2, 6],\n",
        " [6],\n",
        " [6],\n",
        " [5, 3, 4, 2, 1, 6],\n",
        " [1, 5, 5, 3, 5, 4, 5, 6],\n",
        " [1, 3, 2, 1, 3, 4, 3, 5, 3, 6],\n",
        " [5, 2, 1, 5, 5, 2, 3, 4, 5, 5, 3, 2, 2, 6],\n",
        " [2, 2, 2, 3, 1, 5, 4, 1, 4, 6],\n",
        " [6],\n",
        " [6],\n",
        " [6],\n",
        " [6],\n",
        " [1, 1, 3, 4, 5, 1, 3, 6],\n",
        " [2, 3, 6],\n",
        " [2, 2, 2, 6],\n",
        " [4, 2, 5, 4, 2, 2, 4, 3, 3, 4, 5, 1, 6],\n",
        " [1, 4, 4, 2, 4, 6],\n",
        " [6],\n",
        " [6],\n",
        " [2, 3, 6],\n",
        " [3, 4, 3, 2, 6],\n",
        " [4, 6],\n",
        " [3, 4, 4, 3, 4, 6],\n",
        " [4, 6],\n",
        " [2, 4, 2, 4, 5, 5, 1, 5, 2, 5, 6],\n",
        " [3, 1, 3, 4, 6],\n",
        " [3, 1, 4, 3, 6],\n",
        " [3, 3, 5, 2, 2, 3, 1, 3, 6],\n",
        " [2, 2, 3, 6],\n",
        " [3,\n",
        "  1,\n",
        "  1,\n",
        "  2,\n",
        "  5,\n",
        "  4,\n",
        "  5,\n",
        "  1,\n",
        "  4,\n",
        "  2,\n",
        "  5,\n",
        "  1,\n",
        "  4,\n",
        "  5,\n",
        "  2,\n",
        "  4,\n",
        "  1,\n",
        "  1,\n",
        "  5,\n",
        "  4,\n",
        "  5,\n",
        "  2,\n",
        "  1,\n",
        "  3,\n",
        "  3,\n",
        "  5,\n",
        "  4,\n",
        "  2,\n",
        "  4,\n",
        "  6],\n",
        " [3, 1, 4, 6],\n",
        " [4, 6],\n",
        " [4, 3, 2, 3, 2, 3, 2, 5, 5, 3, 1, 2, 2, 3, 6],\n",
        " [6],\n",
        " [4, 5, 4, 4, 6],\n",
        " [2, 4, 2, 2, 6],\n",
        " [4, 6],\n",
        " [5, 4, 1, 3, 1, 6],\n",
        " [6],\n",
        " [5, 2, 2, 1, 3, 1, 3, 1, 2, 4, 3, 1, 1, 6],\n",
        " [2, 2, 1, 5, 3, 5, 5, 6],\n",
        " [3,\n",
        "  4,\n",
        "  3,\n",
        "  2,\n",
        "  3,\n",
        "  4,\n",
        "  1,\n",
        "  2,\n",
        "  3,\n",
        "  4,\n",
        "  1,\n",
        "  3,\n",
        "  2,\n",
        "  4,\n",
        "  2,\n",
        "  2,\n",
        "  3,\n",
        "  2,\n",
        "  1,\n",
        "  4,\n",
        "  4,\n",
        "  4,\n",
        "  2,\n",
        "  4,\n",
        "  2,\n",
        "  6],\n",
        " [5, 2, 2, 4, 3, 3, 3, 4, 3, 6],\n",
        " [4, 1, 6],\n",
        " [4, 2, 1, 4, 1, 1, 3, 4, 5, 3, 6],\n",
        " [6],\n",
        " [2, 6],\n",
        " [4, 1, 5, 5, 5, 5, 1, 2, 1, 5, 4, 6],\n",
        " [1, 3, 6],\n",
        " [1, 5, 2, 5, 1, 3, 5, 2, 3, 2, 6],\n",
        " [6],\n",
        " [2, 1, 1, 1, 4, 5, 5, 3, 3, 6],\n",
        " [2, 4, 6],\n",
        " [6],\n",
        " [4, 5, 4, 4, 5, 1, 5, 6],\n",
        " [1, 2, 6],\n",
        " [6],\n",
        " [3, 3, 6],\n",
        " [5, 4, 4, 3, 3, 5, 1, 3, 4, 1, 4, 3, 5, 1, 5, 6],\n",
        " [5, 6],\n",
        " [1, 2, 6],\n",
        " [5, 4, 2, 6],\n",
        " [2, 2, 5, 5, 5, 6],\n",
        " [5, 3, 1, 6],\n",
        " [3, 4, 6],\n",
        " [6],\n",
        " [1, 4, 2, 4, 1, 4, 2, 1, 4, 6],\n",
        " [4, 4, 1, 6],\n",
        " [4, 6],\n",
        " [5, 6],\n",
        " [5, 1, 1, 6],\n",
        " [4, 2, 1, 2, 6],\n",
        " [3, 5, 2, 5, 5, 1, 2, 2, 2, 2, 5, 5, 4, 3, 1, 3, 1, 6],\n",
        " [1, 3, 4, 3, 5, 4, 1, 2, 2, 5, 4, 2, 3, 5, 4, 6],\n",
        " [5, 1, 4, 6],\n",
        " [5, 6],\n",
        " [1, 6],\n",
        " [4, 5, 1, 4, 6],\n",
        " [1, 1, 3, 4, 5, 5, 3, 5, 1, 4, 6]]"
       ]
      }
     ],
     "prompt_number": 169
    },
    {
     "cell_type": "markdown",
     "metadata": {},
     "source": [
      "Now we have a bunch of results. Python can count them for us."
     ]
    },
    {
     "cell_type": "code",
     "collapsed": false,
     "input": [
      "counted_throws = []\n",
      "for trial in results:\n",
      "    throws = len(trial)\n",
      "    counted_throws.append(throws)\n",
      "    \n",
      "counted_throws"
     ],
     "language": "python",
     "metadata": {},
     "outputs": [
      {
       "output_type": "pyout",
       "prompt_number": 174,
       "text": [
        "[13,\n",
        " 5,\n",
        " 2,\n",
        " 1,\n",
        " 8,\n",
        " 13,\n",
        " 6,\n",
        " 1,\n",
        " 9,\n",
        " 6,\n",
        " 8,\n",
        " 5,\n",
        " 15,\n",
        " 5,\n",
        " 11,\n",
        " 9,\n",
        " 8,\n",
        " 2,\n",
        " 14,\n",
        " 11,\n",
        " 3,\n",
        " 9,\n",
        " 1,\n",
        " 1,\n",
        " 6,\n",
        " 8,\n",
        " 10,\n",
        " 14,\n",
        " 10,\n",
        " 1,\n",
        " 1,\n",
        " 1,\n",
        " 1,\n",
        " 8,\n",
        " 3,\n",
        " 4,\n",
        " 13,\n",
        " 6,\n",
        " 1,\n",
        " 1,\n",
        " 3,\n",
        " 5,\n",
        " 2,\n",
        " 6,\n",
        " 2,\n",
        " 11,\n",
        " 5,\n",
        " 5,\n",
        " 9,\n",
        " 4,\n",
        " 30,\n",
        " 4,\n",
        " 2,\n",
        " 15,\n",
        " 1,\n",
        " 5,\n",
        " 5,\n",
        " 2,\n",
        " 6,\n",
        " 1,\n",
        " 14,\n",
        " 8,\n",
        " 26,\n",
        " 10,\n",
        " 3,\n",
        " 11,\n",
        " 1,\n",
        " 2,\n",
        " 12,\n",
        " 3,\n",
        " 11,\n",
        " 1,\n",
        " 10,\n",
        " 3,\n",
        " 1,\n",
        " 8,\n",
        " 3,\n",
        " 1,\n",
        " 3,\n",
        " 16,\n",
        " 2,\n",
        " 3,\n",
        " 4,\n",
        " 6,\n",
        " 4,\n",
        " 3,\n",
        " 1,\n",
        " 10,\n",
        " 4,\n",
        " 2,\n",
        " 2,\n",
        " 4,\n",
        " 5,\n",
        " 18,\n",
        " 16,\n",
        " 4,\n",
        " 2,\n",
        " 2,\n",
        " 5,\n",
        " 11]"
       ]
      }
     ],
     "prompt_number": 174
    },
    {
     "cell_type": "markdown",
     "metadata": {},
     "source": [
      "We can see that on the first trial we had to throw the dice 13 times before getting a 6"
     ]
    },
    {
     "cell_type": "code",
     "collapsed": false,
     "input": [
      "len(results[0])"
     ],
     "language": "python",
     "metadata": {},
     "outputs": [
      {
       "output_type": "pyout",
       "prompt_number": 175,
       "text": [
        "13"
       ]
      }
     ],
     "prompt_number": 175
    },
    {
     "cell_type": "markdown",
     "metadata": {},
     "source": [
      "How many times in total did we throw the dice?"
     ]
    },
    {
     "cell_type": "code",
     "collapsed": false,
     "input": [
      "sum(counted_throws)"
     ],
     "language": "python",
     "metadata": {},
     "outputs": [
      {
       "output_type": "pyout",
       "prompt_number": 176,
       "text": [
        "632"
       ]
      }
     ],
     "prompt_number": 176
    },
    {
     "cell_type": "markdown",
     "metadata": {},
     "source": [
      "We threw it 632 times! Wow, that's a lot. \n",
      "\n",
      "But how many times on average? We'll we had 100 trials? How much is that?"
     ]
    },
    {
     "cell_type": "code",
     "collapsed": false,
     "input": [
      "sum(counted_throws) / float(trials) # See that 'float' just ignore it for the time being. "
     ],
     "language": "python",
     "metadata": {},
     "outputs": [
      {
       "output_type": "pyout",
       "prompt_number": 178,
       "text": [
        "6.32"
       ]
      }
     ],
     "prompt_number": 178
    },
    {
     "cell_type": "markdown",
     "metadata": {},
     "source": [
      "Humm... so, its taken us about 6.3 throws on average to get a 6. \n",
      "\n",
      "Let's see what happens if we throw more than 100 times. \n",
      "\n",
      "But, before we do our experiment, let's writes some code to simplify our testing. "
     ]
    },
    {
     "cell_type": "code",
     "collapsed": false,
     "input": [
      "# This code is similar to the code above, but I changed some variable names to make it easier to read.\n",
      "def average_throws_till_6(trials):\n",
      "    throws = []\n",
      "    for i in range(trials):\n",
      "        trial = toss_till_6()\n",
      "        throws.append(trial)\n",
      "        \n",
      "    counted_throws = []\n",
      "    for throw in throws:\n",
      "        counted_throws.append(len(throw))\n",
      "        \n",
      "    average = sum(counted_throws) / float(trials)\n",
      "    return average\n",
      "        "
     ],
     "language": "python",
     "metadata": {},
     "outputs": [],
     "prompt_number": 179
    },
    {
     "cell_type": "code",
     "collapsed": false,
     "input": [
      "trials = 1000\n",
      "average_throws_till_6(trials)"
     ],
     "language": "python",
     "metadata": {},
     "outputs": [
      {
       "output_type": "pyout",
       "prompt_number": 180,
       "text": [
        "5.906"
       ]
      }
     ],
     "prompt_number": 180
    },
    {
     "cell_type": "markdown",
     "metadata": {},
     "source": [
      "Wow. 5.906 throws on average. \n",
      "\n",
      "When we did it with 10 trials we got 4.8 throws on average.... \n",
      "\n",
      "100 throws was 6.3 throws on average. \n",
      "\n",
      "1000 throws got 5.906 throws on average.\n",
      "\n",
      "----\n",
      "\n",
      "But why stop at 1000 throws... let's go higher! Let's push the limits. It's not like our arm will fall off from throwing the dice."
     ]
    },
    {
     "cell_type": "code",
     "collapsed": false,
     "input": [
      "trials = 10000 # That's ten thousand throws!\n",
      "average_throws_till_6(trials)"
     ],
     "language": "python",
     "metadata": {},
     "outputs": [
      {
       "output_type": "pyout",
       "prompt_number": 181,
       "text": [
        "5.9077"
       ]
      }
     ],
     "prompt_number": 181
    },
    {
     "cell_type": "markdown",
     "metadata": {},
     "source": [
      "Throws on average with 10,000 throws is 5.9077. \n",
      "\n",
      "It looks like we're getting pretty close to 6. \n",
      "\n",
      "What will happen if we do it 50,000 times? What about 100,000 times?"
     ]
    },
    {
     "cell_type": "code",
     "collapsed": false,
     "input": [
      "trials = 50000\n",
      "average_throws_till_6(trials)"
     ],
     "language": "python",
     "metadata": {},
     "outputs": [
      {
       "output_type": "pyout",
       "prompt_number": 182,
       "text": [
        "6.02692"
       ]
      }
     ],
     "prompt_number": 182
    },
    {
     "cell_type": "code",
     "collapsed": false,
     "input": [
      "trials = 100000\n",
      "average_throws_till_6(trials)"
     ],
     "language": "python",
     "metadata": {},
     "outputs": [
      {
       "output_type": "pyout",
       "prompt_number": 183,
       "text": [
        "5.98154"
       ]
      }
     ],
     "prompt_number": 183
    },
    {
     "cell_type": "markdown",
     "metadata": {},
     "source": [
      "It looks like as we go a lot higher the number doesn't change much.\n",
      "\n",
      "**How many tosses, on average, does it take to get a 6?**\n",
      "\n",
      "I guess it takes about 6 throws on average until we reach the number 6"
     ]
    },
    {
     "cell_type": "markdown",
     "metadata": {},
     "source": [
      "-----\n",
      "It seems that we've answered our question, the answer is 6. Right?\n",
      "\n",
      "But what if we change the question. \n",
      "\n",
      "How many throws, on average does it take to get a 3?\n",
      "\n",
      "_Note: I just decided on 3, it could have been a different number. But, maybe we should test other numbers too?_\n",
      "    \n",
      "Our original code was written to only test for a 6, so let's change to to test for any number. "
     ]
    },
    {
     "cell_type": "code",
     "collapsed": false,
     "input": [
      "# our original one was called \"toss_til_6\" we've renamed the 6 to \"value\"\n",
      "# Now we can test numbers other than 6, like 3. \n",
      "\n",
      "def toss_till_value(value):\n",
      "    tosses = []\n",
      "    while True:\n",
      "        face = random.randint(1, 6)\n",
      "        tosses.append(face)\n",
      "        if face == value:\n",
      "            break\n",
      "    return tosses"
     ],
     "language": "python",
     "metadata": {},
     "outputs": [],
     "prompt_number": 184
    },
    {
     "cell_type": "markdown",
     "metadata": {},
     "source": [
      "How about we try out our new code by running an experiment with 3. \n"
     ]
    },
    {
     "cell_type": "code",
     "collapsed": false,
     "input": [
      "toss_till_value(3)"
     ],
     "language": "python",
     "metadata": {},
     "outputs": [
      {
       "output_type": "pyout",
       "prompt_number": 185,
       "text": [
        "[5, 4, 2, 1, 4, 3]"
       ]
      }
     ],
     "prompt_number": 185
    },
    {
     "cell_type": "markdown",
     "metadata": {},
     "source": [
      "We had to toss the dice 6 times until we got a 3. \n",
      "\n",
      "What happens if we toss it a bunch of times like before?\n",
      "\n",
      "Let's create some code to do the calculations. "
     ]
    },
    {
     "cell_type": "code",
     "collapsed": false,
     "input": [
      "# This code is similar to the code above, but made a couple changes... \n",
      "# \"toss_till_6\" is now \"toss_till_value\"\n",
      "# we have to supply a value\n",
      "def average_throws_till_value(trials, value):\n",
      "    throws = []\n",
      "    for i in range(trials):\n",
      "        trial = toss_till_value(value)\n",
      "        throws.append(trial)\n",
      "        \n",
      "    counted_throws = []\n",
      "    for throw in throws:\n",
      "        counted_throws.append(len(throw))\n",
      "        \n",
      "    average = sum(counted_throws) / float(trials)\n",
      "    return average\n",
      "        "
     ],
     "language": "python",
     "metadata": {},
     "outputs": [],
     "prompt_number": 187
    },
    {
     "cell_type": "code",
     "collapsed": false,
     "input": [
      "average_throws_till_value(10, 3)"
     ],
     "language": "python",
     "metadata": {},
     "outputs": [
      {
       "output_type": "pyout",
       "prompt_number": 188,
       "text": [
        "7.1"
       ]
      }
     ],
     "prompt_number": 188
    },
    {
     "cell_type": "markdown",
     "metadata": {},
     "source": [
      "Humm, when we do 10 throws it takes 7.1 throws on average until we get a 3.\n",
      "\n",
      "What happens if we do it more and more!"
     ]
    },
    {
     "cell_type": "code",
     "collapsed": false,
     "input": [
      "average_throws_till_value(1000, 3)"
     ],
     "language": "python",
     "metadata": {},
     "outputs": [
      {
       "output_type": "pyout",
       "prompt_number": 189,
       "text": [
        "5.916"
       ]
      }
     ],
     "prompt_number": 189
    },
    {
     "cell_type": "code",
     "collapsed": false,
     "input": [
      "average_throws_till_value(10000, 3)"
     ],
     "language": "python",
     "metadata": {},
     "outputs": [
      {
       "output_type": "pyout",
       "prompt_number": 190,
       "text": [
        "5.9771"
       ]
      }
     ],
     "prompt_number": 190
    },
    {
     "cell_type": "code",
     "collapsed": false,
     "input": [
      "average_throws_till_value(10000, 3)"
     ],
     "language": "python",
     "metadata": {},
     "outputs": [
      {
       "output_type": "pyout",
       "prompt_number": 191,
       "text": [
        "6.0047"
       ]
      }
     ],
     "prompt_number": 191
    },
    {
     "cell_type": "code",
     "collapsed": false,
     "input": [
      "average_throws_till_value(1000000, 3)"
     ],
     "language": "python",
     "metadata": {},
     "outputs": [
      {
       "output_type": "pyout",
       "prompt_number": 192,
       "text": [
        "5.996575"
       ]
      }
     ],
     "prompt_number": 192
    },
    {
     "cell_type": "markdown",
     "metadata": {},
     "source": [
      "These numbers are pretty close to 6, especially when we do a high number of throws. \n"
     ]
    },
    {
     "cell_type": "markdown",
     "metadata": {},
     "source": [
      "------\n",
      "\n",
      "We've done 3 and 6, both take about 6 throws on average. What about the remaining faces...\n",
      "\n",
      "1. ???\n",
      "2. ???\n",
      "3. Average = about 6\n",
      "4. ???\n",
      "5. ???\n",
      "6. Average = about 6 "
     ]
    },
    {
     "cell_type": "markdown",
     "metadata": {},
     "source": [
      "Testing 1, 2, 4, 5"
     ]
    },
    {
     "cell_type": "code",
     "collapsed": false,
     "input": [
      "print \"1:\", average_throws_till_value(10000, 1)\n",
      "print \"2:\", average_throws_till_value(10000, 2)\n",
      "print \"3:\", average_throws_till_value(10000, 3)\n",
      "print \"4:\", average_throws_till_value(10000, 4)\n",
      "print \"5:\", average_throws_till_value(10000, 5)\n",
      "print \"6:\", average_throws_till_value(10000, 6)"
     ],
     "language": "python",
     "metadata": {},
     "outputs": [
      {
       "output_type": "stream",
       "stream": "stdout",
       "text": [
        "1: "
       ]
      },
      {
       "output_type": "stream",
       "stream": "stdout",
       "text": [
        "5.9834\n",
        "2: "
       ]
      },
      {
       "output_type": "stream",
       "stream": "stdout",
       "text": [
        "6.0456\n",
        "3: "
       ]
      },
      {
       "output_type": "stream",
       "stream": "stdout",
       "text": [
        "6.0248\n",
        "4: "
       ]
      },
      {
       "output_type": "stream",
       "stream": "stdout",
       "text": [
        "5.9496\n",
        "5: "
       ]
      },
      {
       "output_type": "stream",
       "stream": "stdout",
       "text": [
        "5.9938\n",
        "6: "
       ]
      },
      {
       "output_type": "stream",
       "stream": "stdout",
       "text": [
        "5.9935\n"
       ]
      }
     ],
     "prompt_number": 194
    },
    {
     "cell_type": "markdown",
     "metadata": {},
     "source": [
      "**I guess it doesn't matter what face value we choose. It takes 6 throws on average to get any face!**"
     ]
    },
    {
     "cell_type": "markdown",
     "metadata": {},
     "source": [
      "# What if..."
     ]
    },
    {
     "cell_type": "markdown",
     "metadata": {},
     "source": [
      "+ We tried a dice with 6 sides, but what if we used one with 10 sides? 15 sides? 20 sides? [20-sided dice exist!](http://en.wikipedia.org/wiki/Icosahedron)\n",
      "+ What if we had a die that had 6 sides but instead of 1,2,3,4,5,6 they were 1,2,3,3,3,4? (See, it doesn't even go to 6!)\n",
      "+ Or a 10 sided die that went to 6 but had sides like 1,1,1,2,2,3,4,5,6,6 ?"
     ]
    },
    {
     "cell_type": "code",
     "collapsed": false,
     "input": [],
     "language": "python",
     "metadata": {},
     "outputs": []
    }
   ],
   "metadata": {}
  }
 ]
}