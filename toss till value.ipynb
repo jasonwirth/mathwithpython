{
 "metadata": {
  "name": "toss till value"
 },
 "nbformat": 3,
 "nbformat_minor": 0,
 "worksheets": [
  {
   "cells": [
    {
     "cell_type": "markdown",
     "metadata": {},
     "source": [
      "In a <a href=\"#\">previous post</a> we looked at the question:\n",
      "\n",
      "**How many times, on average do you need to toss a dice with 6 sides until you get a 6?**\n",
      "\n",
      "Python has some cool randomness features so let's look at those."
     ]
    },
    {
     "cell_type": "code",
     "collapsed": false,
     "input": [
      "import random"
     ],
     "language": "python",
     "metadata": {},
     "outputs": [],
     "prompt_number": 1
    },
    {
     "cell_type": "code",
     "collapsed": false,
     "input": [
      "random.choice?"
     ],
     "language": "python",
     "metadata": {},
     "outputs": [],
     "prompt_number": 2
    },
    {
     "cell_type": "markdown",
     "metadata": {},
     "source": [
      "`random.choice` is pretty cool. Here's the documentation:\n",
      "\n",
      "> Choose a random element from a non-empty sequence.\n",
      "\n",
      "We can give it a list of stuff and it'll pick on out at random. \n",
      "\n",
      "Here's a dice with 6 sides:\n",
      "\n",
      "<img src=\"http://upload.wikimedia.org/wikipedia/commons/4/4c/Dice.png\" width=300px>\n",
      "\n",
      "This is easy to create with Python"
     ]
    },
    {
     "cell_type": "code",
     "collapsed": false,
     "input": [
      "sides = [1, 2, 3, 4, 5, 6]"
     ],
     "language": "python",
     "metadata": {},
     "outputs": [],
     "prompt_number": 3
    },
    {
     "cell_type": "code",
     "collapsed": false,
     "input": [
      "random.choice(sides)"
     ],
     "language": "python",
     "metadata": {},
     "outputs": [
      {
       "output_type": "pyout",
       "prompt_number": 4,
       "text": [
        "4"
       ]
      }
     ],
     "prompt_number": 4
    },
    {
     "cell_type": "code",
     "collapsed": false,
     "input": [
      "random.choice(sides)"
     ],
     "language": "python",
     "metadata": {},
     "outputs": [
      {
       "output_type": "pyout",
       "prompt_number": 5,
       "text": [
        "1"
       ]
      }
     ],
     "prompt_number": 5
    },
    {
     "cell_type": "markdown",
     "metadata": {},
     "source": [
      "Every time we call `random.choice` it randomly pulls a number from our list. Very cool! It's like pulling a number from a hat. \n",
      "\n",
      "Pulling random numbers happens quite a lot. In fact, it's how the <a href=\"http://en.wikipedia.org/wiki/NBA_Draft_Lottery\">NBA drafts new playes</a> fon the upcoming year. \n",
      "\n",
      "<img src=\"http://cdn.bleacherreport.net/images_root/slides/photos/000/225/998/62f2cf1f339354a63944c1fdcf358c6b_display_image.jpg?1273815300\" />\n",
      "\n",
      "Perhaps I'll talk about the NBA draft at a later date, let's continue with our dice example.\n",
      "\n",
      "`random.choice` is cool because it allows us to construct any type of dice that want.\n",
      "\n",
      "Here are some examples"
     ]
    },
    {
     "cell_type": "code",
     "collapsed": false,
     "input": [
      "six_sided = [1, 2, 3, 4, 5, 6]\n",
      "ten_sided_norm = [1, 2, 3, 4, 5, 6, 7, 8, 9, 10]\n",
      "ten_sided_irregular = [1, 1, 1, 2, 2, 3, 3, 4, 5, 6]"
     ],
     "language": "python",
     "metadata": {},
     "outputs": [],
     "prompt_number": 6
    },
    {
     "cell_type": "markdown",
     "metadata": {},
     "source": [
      "Previously we had a function that threw the die until we got a certain number. \n",
      "\n",
      "Let's write it again, this time using `random.choice`"
     ]
    },
    {
     "cell_type": "code",
     "collapsed": false,
     "input": [
      "def toss_till_value(value, sides):\n",
      "    tosses = []\n",
      "    while 1:\n",
      "        outcome = random.choice(sides)\n",
      "        tosses.append(outcome)\n",
      "        if outcome == value:\n",
      "            break\n",
      "    return tosses"
     ],
     "language": "python",
     "metadata": {},
     "outputs": [],
     "prompt_number": 7
    },
    {
     "cell_type": "markdown",
     "metadata": {},
     "source": [
      "Now we can toss _any die we want_ and get back the results!\n",
      "\n",
      "We know a little bit about a die with 6 sides, so let's try that first, tossing it until we get a 4."
     ]
    },
    {
     "cell_type": "code",
     "collapsed": false,
     "input": [
      "toss_till_value(4, six_sided)"
     ],
     "language": "python",
     "metadata": {},
     "outputs": [
      {
       "output_type": "pyout",
       "prompt_number": 9,
       "text": [
        "[3, 3, 5, 4]"
       ]
      }
     ],
     "prompt_number": 9
    },
    {
     "cell_type": "markdown",
     "metadata": {},
     "source": [
      "The result from our function is the hisory of tosses.\n",
      "\n",
      "Toss it a few more times for fun!"
     ]
    },
    {
     "cell_type": "code",
     "collapsed": false,
     "input": [
      "toss_till_value(4, six_sided)"
     ],
     "language": "python",
     "metadata": {},
     "outputs": [
      {
       "output_type": "pyout",
       "prompt_number": 11,
       "text": [
        "[1, 6, 4]"
       ]
      }
     ],
     "prompt_number": 11
    },
    {
     "cell_type": "code",
     "collapsed": false,
     "input": [
      "toss_till_value(4, six_sided)"
     ],
     "language": "python",
     "metadata": {},
     "outputs": [
      {
       "output_type": "pyout",
       "prompt_number": 12,
       "text": [
        "[2, 6, 2, 4]"
       ]
      }
     ],
     "prompt_number": 12
    },
    {
     "cell_type": "code",
     "collapsed": false,
     "input": [
      "toss_till_value(4, six_sided)"
     ],
     "language": "python",
     "metadata": {},
     "outputs": [
      {
       "output_type": "pyout",
       "prompt_number": 13,
       "text": [
        "[1, 1, 5, 2, 5, 1, 6, 5, 1, 1, 3, 5, 5, 3, 4]"
       ]
      }
     ],
     "prompt_number": 13
    },
    {
     "cell_type": "code",
     "collapsed": false,
     "input": [
      "toss_till_value(4, six_sided)"
     ],
     "language": "python",
     "metadata": {},
     "outputs": [
      {
       "output_type": "pyout",
       "prompt_number": 14,
       "text": [
        "[6, 1, 6, 3, 2, 3, 5, 5, 5, 6, 2, 5, 6, 5, 1, 3, 3, 3, 5, 6, 2, 1, 4]"
       ]
      }
     ],
     "prompt_number": 14
    },
    {
     "cell_type": "markdown",
     "metadata": {},
     "source": [
      "Wow! That last resulrt was really long!\n",
      "\n",
      "Now, let's use our 10 sided die, stopping when we get a 4."
     ]
    },
    {
     "cell_type": "code",
     "collapsed": false,
     "input": [
      "toss_till_value(4, ten_sided_norm)"
     ],
     "language": "python",
     "metadata": {},
     "outputs": [
      {
       "output_type": "pyout",
       "prompt_number": 16,
       "text": [
        "[1, 2, 1, 10, 3, 7, 5, 4]"
       ]
      }
     ],
     "prompt_number": 16
    },
    {
     "cell_type": "code",
     "collapsed": false,
     "input": [
      "toss_till_value(4, ten_sided_norm)"
     ],
     "language": "python",
     "metadata": {},
     "outputs": [
      {
       "output_type": "pyout",
       "prompt_number": 17,
       "text": [
        "[8, 4]"
       ]
      }
     ],
     "prompt_number": 17
    },
    {
     "cell_type": "code",
     "collapsed": false,
     "input": [
      "toss_till_value(4, ten_sided_norm)"
     ],
     "language": "python",
     "metadata": {},
     "outputs": [
      {
       "output_type": "pyout",
       "prompt_number": 18,
       "text": [
        "[4]"
       ]
      }
     ],
     "prompt_number": 18
    },
    {
     "cell_type": "code",
     "collapsed": false,
     "input": [
      "toss_till_value(4, ten_sided_norm)"
     ],
     "language": "python",
     "metadata": {},
     "outputs": [
      {
       "output_type": "pyout",
       "prompt_number": 19,
       "text": [
        "[2, 5, 5, 10, 2, 1, 2, 5, 9, 9, 3, 3, 9, 3, 10, 1, 3, 8, 4]"
       ]
      }
     ],
     "prompt_number": 19
    },
    {
     "cell_type": "code",
     "collapsed": false,
     "input": [
      "toss_till_value(4, ten_sided_norm)"
     ],
     "language": "python",
     "metadata": {},
     "outputs": [
      {
       "output_type": "pyout",
       "prompt_number": 22,
       "text": [
        "[7, 3, 10, 5, 6, 6, 10, 2, 1, 9, 7, 8, 8, 7, 9, 9, 4]"
       ]
      }
     ],
     "prompt_number": 22
    },
    {
     "cell_type": "markdown",
     "metadata": {},
     "source": [
      "The previous question was:\n",
      "**How many times, on average, do we have to throw a 6 sided die untill we get a 6?**\n",
      "\n",
      "Now we have a 10 sided dice, so let's use that?\n",
      "\n",
      "**How many times, on average, do we have to throw a 10 sided die until we get a 6?**\n",
      "\n",
      "What are we going to do here? Can you write it down?\n",
      "\n",
      "1. Toss the die until we get a 6.\n",
      "2. Count the number of times we tossed it, and write it down.\n",
      "3. Repeat step 1 and 2 100 times, untill we have 100 records of the number of throws it took to get a 6.\n",
      "\n",
      "How do we record, or write down, our numbers? Python has a list! We `.append` items to our list, which is like writing them down."
     ]
    },
    {
     "cell_type": "code",
     "collapsed": false,
     "input": [
      "number_of_tosses = []\n",
      "for i in range(100):\n",
      "    result = toss_till_value(6, ten_sided_norm)\n",
      "    # Count how many times we threw the die, in python terms this is called the 'length'\n",
      "    number_of_tosses.append(len(result))\n",
      "\n",
      "print number_of_tosses"
     ],
     "language": "python",
     "metadata": {},
     "outputs": [
      {
       "output_type": "stream",
       "stream": "stdout",
       "text": [
        "[3, 8, 3, 8, 8, 11, 5, 1, 15, 1, 6, 6, 4, 1, 5, 15, 9, 6, 1, 16, 9, 2, 8, 1, 2, 1, 13, 2, 2, 2, 7, 43, 7, 3, 11, 9, 11, 4, 18, 6, 2, 6, 7, 34, 15, 5, 8, 3, 4, 14, 17, 10, 31, 3, 10, 2, 4, 2, 17, 9, 9, 12, 15, 14, 10, 30, 5, 1, 2, 4, 16, 7, 15, 13, 19, 28, 4, 2, 7, 39, 4, 10, 2, 4, 8, 6, 6, 5, 8, 7, 5, 5, 8, 1, 9, 4, 10, 56, 7, 9]\n"
       ]
      }
     ],
     "prompt_number": 24
    },
    {
     "cell_type": "markdown",
     "metadata": {},
     "source": [
      "We can see the results. In snome cases it took 1 throw to get a 6, other times it took as many as 39, 43, and even 56 throws!\n",
      "\n",
      "To get the average number of throws, we add up all our numbers, and divide by the number of \"trails\", in this case it was 100."
     ]
    },
    {
     "cell_type": "code",
     "collapsed": false,
     "input": [
      "sum(number_of_tosses) / 100."
     ],
     "language": "python",
     "metadata": {},
     "outputs": [
      {
       "output_type": "pyout",
       "prompt_number": 25,
       "text": [
        "9.22"
       ]
      }
     ],
     "prompt_number": 25
    },
    {
     "cell_type": "markdown",
     "metadata": {},
     "source": [
      "This means that it took 9.22 throws on average to get a 6. \n",
      "\n",
      "What would happen if we did it with 500 throws instead of 100?\n",
      "\n",
      "I'm going to copy and paste the code above and change 100 -> 500, then re-run our experiment."
     ]
    },
    {
     "cell_type": "code",
     "collapsed": false,
     "input": [
      "number_of_tosses = []\n",
      "for i in range(500):\n",
      "    result = toss_till_value(6, ten_sided_norm)\n",
      "    # Count how many times we threw the die, in python terms this is called the 'length'\n",
      "    number_of_tosses.append(len(result))\n",
      "\n",
      "sum(number_of_tosses) / 500."
     ],
     "language": "python",
     "metadata": {},
     "outputs": [
      {
       "output_type": "pyout",
       "prompt_number": 28,
       "text": [
        "9.836"
       ]
      }
     ],
     "prompt_number": 28
    },
    {
     "cell_type": "markdown",
     "metadata": {},
     "source": [
      "Humm... 9.836. That's similar to before, but this time a little closer to 10."
     ]
    },
    {
     "cell_type": "markdown",
     "metadata": {},
     "source": [
      "**What would happen if we did it with 1000, 10000, or even 100000?** \n",
      "\n",
      "Here something nice about doing math with computers, we don't have to copy and past and do a lot by hand, the computer can do the work for us. But we need to tell the computer how to run our expirement. \n",
      "\n",
      "\n",
      "This is the same code we used before, I'm just replacing the specific numbers with a place holder.\n",
      "\n",
      " - 500 -> `trials`\n",
      " - 6 -> `value`\n",
      " - `ten_sided_norm` -> `dice_type`  This is special because now we can use any type of dice we want"
     ]
    },
    {
     "cell_type": "code",
     "collapsed": false,
     "input": [
      "def run_experiment(value, dice_type, trials):\n",
      "    number_of_tosses = []\n",
      "    for i in range(trials):\n",
      "        result = toss_till_value(value, dice_type)\n",
      "        # Count how many times we threw the die, in python terms this is called the 'length'\n",
      "        number_of_tosses.append(len(result))\n",
      "    \n",
      "    return sum(number_of_tosses) / float(trials)"
     ],
     "language": "python",
     "metadata": {},
     "outputs": [],
     "prompt_number": 32
    },
    {
     "cell_type": "code",
     "collapsed": false,
     "input": [
      "run_experiment(6, ten_sided_norm, 1000)"
     ],
     "language": "python",
     "metadata": {},
     "outputs": [
      {
       "output_type": "pyout",
       "prompt_number": 33,
       "text": [
        "10.072"
       ]
      }
     ],
     "prompt_number": 33
    },
    {
     "cell_type": "markdown",
     "metadata": {},
     "source": [
      "It took, on average, about 10 throws to get a 6 when using a 10 sided die.\n",
      "\n",
      "To be sure that the average is close to 10, let's throw it 100000 times (one hundred thousand times!). What do you think will happen?"
     ]
    },
    {
     "cell_type": "code",
     "collapsed": false,
     "input": [
      "run_experiment(6, ten_sided_norm, 100000)"
     ],
     "language": "python",
     "metadata": {},
     "outputs": [
      {
       "output_type": "pyout",
       "prompt_number": 34,
       "text": [
        "10.02647"
       ]
      }
     ],
     "prompt_number": 34
    },
    {
     "cell_type": "markdown",
     "metadata": {},
     "source": [
      "Yep, 10!\n",
      "\n",
      "But I wonder if it changes if we use something other than 6? Let's try all the numbers!"
     ]
    },
    {
     "cell_type": "code",
     "collapsed": false,
     "input": [
      "print ten_sided_norm"
     ],
     "language": "python",
     "metadata": {},
     "outputs": [
      {
       "output_type": "stream",
       "stream": "stdout",
       "text": [
        "[1, 2, 3, 4, 5, 6, 7, 8, 9, 10]\n"
       ]
      }
     ],
     "prompt_number": 35
    },
    {
     "cell_type": "code",
     "collapsed": false,
     "input": [
      "print \" 1:\", run_experiment(1, ten_sided_norm, 10000)\n",
      "print \" 2:\", run_experiment(2, ten_sided_norm, 10000)\n",
      "print \" 3:\", run_experiment(3, ten_sided_norm, 10000)\n",
      "print \" 4:\", run_experiment(4, ten_sided_norm, 10000)\n",
      "print \" 5:\", run_experiment(5, ten_sided_norm, 10000)\n",
      "print \" 6:\", run_experiment(6, ten_sided_norm, 10000)\n",
      "print \" 7:\", run_experiment(7, ten_sided_norm, 10000)\n",
      "print \" 8:\", run_experiment(8, ten_sided_norm, 10000)\n",
      "print \" 9:\", run_experiment(9, ten_sided_norm, 10000)\n",
      "print \"10:\", run_experiment(10, ten_sided_norm, 10000)"
     ],
     "language": "python",
     "metadata": {},
     "outputs": [
      {
       "output_type": "stream",
       "stream": "stdout",
       "text": [
        " 1: "
       ]
      },
      {
       "output_type": "stream",
       "stream": "stdout",
       "text": [
        "10.1279\n",
        " 2: "
       ]
      },
      {
       "output_type": "stream",
       "stream": "stdout",
       "text": [
        "9.9722\n",
        " 3: 9.9648\n",
        " 4: "
       ]
      },
      {
       "output_type": "stream",
       "stream": "stdout",
       "text": [
        "9.7546\n",
        " 5: 9.9235\n",
        " 6: "
       ]
      },
      {
       "output_type": "stream",
       "stream": "stdout",
       "text": [
        "10.142\n",
        " 7: 9.98\n",
        " 8: "
       ]
      },
      {
       "output_type": "stream",
       "stream": "stdout",
       "text": [
        "10.0858\n",
        " 9: 10.0105\n",
        "10: "
       ]
      },
      {
       "output_type": "stream",
       "stream": "stdout",
       "text": [
        "10.0697\n"
       ]
      }
     ],
     "prompt_number": 36
    },
    {
     "cell_type": "markdown",
     "metadata": {},
     "source": [
      "Wow, all the numbers are pretty close to 10. \n",
      "\n",
      "I guess it doesn't matter what face value we choose. \n",
      "\n",
      "But, I wonder **what happens if we start with a 6 sided dice, and increasing the side each time so that we get try a 7 , then an 8, then a 9...**"
     ]
    },
    {
     "cell_type": "code",
     "collapsed": false,
     "input": [
      "print \" 6 sides:\", run_experiment(6, [1, 2, 3, 4, 5, 6], 10000)\n",
      "print \" 7 sides:\", run_experiment(6, [1, 2, 3, 4, 5, 6, 7], 10000)\n",
      "print \" 8 sides:\", run_experiment(6, [1, 2, 3, 4, 5, 6, 7, 8], 10000)\n",
      "print \" 9 sides:\", run_experiment(6, [1, 2, 3, 4, 5, 6, 7, 8, 9], 10000)\n",
      "print \"10 sides:\", run_experiment(6, [1, 2, 3, 4, 5, 6, 7, 8, 9, 10], 10000)\n",
      "print \"11 sides:\", run_experiment(6, [1, 2, 3, 4, 5, 6, 7, 8, 9, 10, 11], 10000)\n",
      "print \"12 sides:\", run_experiment(6, [1, 2, 3, 4, 5, 6, 7, 8, 9, 10, 11, 12], 10000)"
     ],
     "language": "python",
     "metadata": {},
     "outputs": [
      {
       "output_type": "stream",
       "stream": "stdout",
       "text": [
        " 6 sides: 6.0582\n",
        " 7 sides: "
       ]
      },
      {
       "output_type": "stream",
       "stream": "stdout",
       "text": [
        "6.9162\n",
        " 8 sides: 8.0179\n",
        " 9 sides: "
       ]
      },
      {
       "output_type": "stream",
       "stream": "stdout",
       "text": [
        "9.1095\n",
        "10 sides: "
       ]
      },
      {
       "output_type": "stream",
       "stream": "stdout",
       "text": [
        "9.9055\n",
        "11 sides: "
       ]
      },
      {
       "output_type": "stream",
       "stream": "stdout",
       "text": [
        "10.7736\n",
        "12 sides: "
       ]
      },
      {
       "output_type": "stream",
       "stream": "stdout",
       "text": [
        "12.1072\n"
       ]
      }
     ],
     "prompt_number": 37
    },
    {
     "cell_type": "markdown",
     "metadata": {},
     "source": [
      "What's going on here?\n",
      "\n",
      "We have a 6 sided die and it takes 6 throws?\n",
      "\n",
      "A 7 sided die and it takes 7 throws?\n",
      "\n",
      "It seams that the number of sides on the dice, is the number of throws, on average it takes.\n",
      "\n",
      "Let's test out our idea. How about we try a 50 sided die! \n",
      "\n",
      "_Believe it or not, a 50 sided die actually exists!_\n",
      "\n",
      "<img src=\"http://membres.multimania.fr/arjan/num50_01.JPG\" />\n",
      "\n"
     ]
    },
    {
     "cell_type": "code",
     "collapsed": false,
     "input": [
      "fifty_sided_die = [1, 2, 3, 4, 5, 6, 7, 8, 9, \\\n",
      "                  10, 11, 12, 13, 14, 15, 16, 17, 18, 19, \\\n",
      "                  20, 21, 22, 23, 24, 25, 26, 27, 28, 29, \\\n",
      "                  30, 31, 32, 33, 34, 35, 36, 37, 38, 39, \\\n",
      "                  40, 41, 42, 43, 44, 45, 46, 47, 48, 49, 50]"
     ],
     "language": "python",
     "metadata": {},
     "outputs": [],
     "prompt_number": 40
    },
    {
     "cell_type": "code",
     "collapsed": false,
     "input": [
      "print \"50 sides:\", run_experiment(6, fifty_sided_die, 10000)"
     ],
     "language": "python",
     "metadata": {},
     "outputs": [
      {
       "output_type": "stream",
       "stream": "stdout",
       "text": [
        "50 sides: "
       ]
      },
      {
       "output_type": "stream",
       "stream": "stdout",
       "text": [
        "49.8958\n"
       ]
      }
     ],
     "prompt_number": 42
    },
    {
     "cell_type": "markdown",
     "metadata": {},
     "source": [
      "That's pretty close to 50! \n",
      "\n",
      "**The number of sides on the dice is the number of times we have to roll the dice, on average, until we get a 6**"
     ]
    },
    {
     "cell_type": "markdown",
     "metadata": {},
     "source": [
      "----\n",
      "\n",
      "**A 100-sided die exists too!**\n",
      "\n",
      "Since the computer allowed us to try a 50-sided die without breaking a sweat, let's do a 100 sided die!\n",
      "\n",
      "\n",
      "(And <a href=\"http://www.amazon.com/100-Sided-1-1-2-Dice-White/dp/B0018S20OM/\">you can get it on Amazon</a>.)\n",
      "\n",
      "<img src=\"http://ecx.images-amazon.com/images/I/51Gtjkp7s4L._SX385_.jpg\" />"
     ]
    },
    {
     "cell_type": "markdown",
     "metadata": {},
     "source": [
      "_Note: not only do I hate calculating, that's why I want to use a computer, I hate typing stuff out. I don't want to type out all those numbers._\n",
      "    \n",
      "    hundred_sided_die = [1, 2, 3, 4, .... 100]\n",
      "    \n",
      "That's a lot of typing!\n",
      "    \n",
      "Python has a trick for generating number and it's:\n",
      "\n",
      "    range"
     ]
    },
    {
     "cell_type": "code",
     "collapsed": false,
     "input": [
      "fifty_sided_die == range(1, 51)"
     ],
     "language": "python",
     "metadata": {},
     "outputs": [
      {
       "output_type": "pyout",
       "prompt_number": 41,
       "text": [
        "True"
       ]
      }
     ],
     "prompt_number": 41
    },
    {
     "cell_type": "markdown",
     "metadata": {},
     "source": [
      "We can make any number of sides with a simple `range`\n",
      "\n",
      "    range(1, sides + 1)"
     ]
    },
    {
     "cell_type": "code",
     "collapsed": false,
     "input": [
      "hundred_sided_die = range(1, 101)"
     ],
     "language": "python",
     "metadata": {},
     "outputs": [],
     "prompt_number": 44
    },
    {
     "cell_type": "code",
     "collapsed": false,
     "input": [
      "print \"100 sides:\", run_experiment(6, hundred_sided_die, 10000)"
     ],
     "language": "python",
     "metadata": {},
     "outputs": [
      {
       "output_type": "stream",
       "stream": "stdout",
       "text": [
        "100 sides: "
       ]
      },
      {
       "output_type": "stream",
       "stream": "stdout",
       "text": [
        "100.0524\n"
       ]
      }
     ],
     "prompt_number": 45
    },
    {
     "cell_type": "code",
     "collapsed": false,
     "input": [],
     "language": "python",
     "metadata": {},
     "outputs": []
    }
   ],
   "metadata": {}
  }
 ]
}